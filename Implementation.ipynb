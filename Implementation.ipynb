{
 "cells": [
  {
   "cell_type": "markdown",
   "metadata": {},
   "source": [
    "# Imports"
   ]
  },
  {
   "cell_type": "code",
   "execution_count": 1,
   "metadata": {},
   "outputs": [],
   "source": [
    "import matplotlib.pyplot as plt\n",
    "import pandas as pd\n",
    "import torch\n",
    "import torch.nn as nn\n",
    "import torch.nn.functional as F\n",
    "import torch.optim as optim\n",
    "from sklearn.model_selection import train_test_split\n",
    "from sklearn.preprocessing import MinMaxScaler\n",
    "from torch.utils.data import DataLoader, Dataset\n",
    "from tqdm import tqdm\n",
    "import numpy as np\n",
    "import random"
   ]
  },
  {
   "cell_type": "markdown",
   "metadata": {},
   "source": [
    "# Check if we have CUDA support"
   ]
  },
  {
   "cell_type": "code",
   "execution_count": 2,
   "metadata": {},
   "outputs": [
    {
     "name": "stdout",
     "output_type": "stream",
     "text": [
      "Cuda available: True\n",
      "GPU: NVIDIA GeForce RTX 3060 Laptop GPU\n",
      "Total memory: 6.0 GB\n",
      "===================================================\n"
     ]
    }
   ],
   "source": [
    "if(torch.cuda.is_available()):\n",
    "    device = torch.device(\"cuda\")\n",
    "    print('Cuda available: {}'.format(torch.cuda.is_available()))\n",
    "    print(\"GPU: \" + torch.cuda.get_device_name(torch.cuda.current_device()))\n",
    "    print(\"Total memory: {:.1f} GB\".format((float(torch.cuda.get_device_properties(0).total_memory / (1024 ** 3)))))\n",
    "    print(\"===================================================\")\n",
    "else:\n",
    "    device = torch.device(\"cpu\")\n",
    "    print('Cuda not available, so using CPU. Please consider switching to a GPU runtime before running the notebook!')"
   ]
  },
  {
   "cell_type": "markdown",
   "metadata": {},
   "source": [
    "# Dataset"
   ]
  },
  {
   "cell_type": "markdown",
   "metadata": {},
   "source": [
    "## Load dataset from CSV"
   ]
  },
  {
   "cell_type": "code",
   "execution_count": 3,
   "metadata": {},
   "outputs": [
    {
     "name": "stdout",
     "output_type": "stream",
     "text": [
      "Labels example: \n",
      " 0    0.0\n",
      "1    0.0\n",
      "Name: Class, dtype: float64\n"
     ]
    },
    {
     "data": {
      "text/html": [
       "<div>\n",
       "<style scoped>\n",
       "    .dataframe tbody tr th:only-of-type {\n",
       "        vertical-align: middle;\n",
       "    }\n",
       "\n",
       "    .dataframe tbody tr th {\n",
       "        vertical-align: top;\n",
       "    }\n",
       "\n",
       "    .dataframe thead th {\n",
       "        text-align: right;\n",
       "    }\n",
       "</style>\n",
       "<table border=\"1\" class=\"dataframe\">\n",
       "  <thead>\n",
       "    <tr style=\"text-align: right;\">\n",
       "      <th></th>\n",
       "      <th>Feature1</th>\n",
       "      <th>Feature2</th>\n",
       "      <th>Feature3</th>\n",
       "      <th>Feature4</th>\n",
       "      <th>Feature5</th>\n",
       "      <th>Feature6</th>\n",
       "      <th>Feature7</th>\n",
       "      <th>Feature8</th>\n",
       "      <th>Feature9</th>\n",
       "      <th>Feature10</th>\n",
       "    </tr>\n",
       "  </thead>\n",
       "  <tbody>\n",
       "    <tr>\n",
       "      <th>0</th>\n",
       "      <td>7493.390318</td>\n",
       "      <td>7.136456</td>\n",
       "      <td>7493.390318</td>\n",
       "      <td>478.029614</td>\n",
       "      <td>3.181524e+10</td>\n",
       "      <td>7.136456</td>\n",
       "      <td>478.502127</td>\n",
       "      <td>2.436395e+07</td>\n",
       "      <td>3.617252e+08</td>\n",
       "      <td>6.696118e+11</td>\n",
       "    </tr>\n",
       "    <tr>\n",
       "      <th>1</th>\n",
       "      <td>7465.559631</td>\n",
       "      <td>6.832010</td>\n",
       "      <td>7465.559631</td>\n",
       "      <td>477.358359</td>\n",
       "      <td>3.178214e+10</td>\n",
       "      <td>6.832010</td>\n",
       "      <td>473.332925</td>\n",
       "      <td>2.373346e+07</td>\n",
       "      <td>3.518449e+08</td>\n",
       "      <td>6.688907e+11</td>\n",
       "    </tr>\n",
       "  </tbody>\n",
       "</table>\n",
       "</div>"
      ],
      "text/plain": [
       "      Feature1  Feature2     Feature3    Feature4      Feature5  Feature6   \n",
       "0  7493.390318  7.136456  7493.390318  478.029614  3.181524e+10  7.136456  \\\n",
       "1  7465.559631  6.832010  7465.559631  477.358359  3.178214e+10  6.832010   \n",
       "\n",
       "     Feature7      Feature8      Feature9     Feature10  \n",
       "0  478.502127  2.436395e+07  3.617252e+08  6.696118e+11  \n",
       "1  473.332925  2.373346e+07  3.518449e+08  6.688907e+11  "
      ]
     },
     "execution_count": 3,
     "metadata": {},
     "output_type": "execute_result"
    }
   ],
   "source": [
    "# Pathfile of actual CSV dataset\n",
    "file_path = 'Dataset/Combined_features.csv'\n",
    "\n",
    "# Read the CSV file into a pandas DataFrame\n",
    "df = pd.read_csv(file_path)\n",
    "\n",
    "# Separate features and class\n",
    "features = df.iloc[:, :-1]  # Select all columns except the last one\n",
    "target = df.iloc[:, -1]     # Select only the last column\n",
    "\n",
    "# Display the first few rows of the DataFrame to inspect the data\n",
    "print(\"Labels example: \\n\", target.head(2))\n",
    "features.head(2)"
   ]
  },
  {
   "cell_type": "markdown",
   "metadata": {},
   "source": [
    "## Plot a simple feature"
   ]
  },
  {
   "cell_type": "code",
   "execution_count": 6,
   "metadata": {},
   "outputs": [
    {
     "data": {
      "image/png": "[encoded data removed]",
      "text/plain": [
       "<Figure size 640x480 with 1 Axes>"
      ]
     },
     "metadata": {},
     "output_type": "display_data"
    }
   ],
   "source": [
    "# Plotting example\n",
    "feature_column = 'Feature1'\n",
    "\n",
    "# Filter the DataFrame for rows where 'Class' is equal to 0\n",
    "class_0_data = df[df.iloc[:, -1] == 0].reset_index(drop=True)\n",
    "class_1_data = df[df.iloc[:, -1] == 1].reset_index(drop=True)\n",
    "class_2_data = df[df.iloc[:, -1] == 2].reset_index(drop=True)\n",
    "\n",
    "# Plot the selected feature for class 0 and class 1 on the same plot\n",
    "plt.plot(class_0_data[feature_column], label=f'Class 0 - {feature_column}', linestyle='-')\n",
    "plt.plot(class_1_data[feature_column], label=f'Class 1 - {feature_column}', linestyle='-')\n",
    "plt.plot(class_2_data[feature_column], label=f'Class 2 - {feature_column}', linestyle='-')\n",
    "\n",
    "plt.xlabel('Sample Index')\n",
    "plt.ylabel(feature_column)\n",
    "plt.legend()\n",
    "plt.show()"
   ]
  },
  {
   "cell_type": "markdown",
   "metadata": {},
   "source": [
    "## Get the actual Dataloader"
   ]
  },
  {
   "cell_type": "code",
   "execution_count": 7,
   "metadata": {},
   "outputs": [],
   "source": [
    "class CustomDataset(Dataset):\n",
    "    def __init__(self, dataframe):\n",
    "        self.data = dataframe.values\n",
    "\n",
    "    def __len__(self):\n",
    "        return len(self.data)\n",
    "\n",
    "    def __getitem__(self, idx):\n",
    "\n",
    "        # Features (until last column)\n",
    "        features = torch.tensor(self.data[idx, :-1], dtype=torch.float32)\n",
    "\n",
    "        # Label (last column)\n",
    "        label = torch.tensor(self.data[idx, -1], dtype=torch.float32)\n",
    "\n",
    "        return features, label"
   ]
  },
  {
   "cell_type": "code",
   "execution_count": 8,
   "metadata": {},
   "outputs": [
    {
     "name": "stdout",
     "output_type": "stream",
     "text": [
      "Number of samples in train dataset: 3084\n",
      "Number of samples in test dataset: 771\n",
      "------------------------------------------------------\n",
      "Number of batches in train loader: 386\n",
      "Number of batches in test loader: 97\n",
      "------------------------------------------------------\n",
      "Shape of batch (X): torch.Size([8, 10])\n",
      "Shape of batch (y): torch.Size([8])\n"
     ]
    }
   ],
   "source": [
    "scaler = MinMaxScaler()\n",
    "labels = df.iloc[:, -1]\n",
    "\n",
    "df_scaled = pd.DataFrame(scaler.fit_transform(df.iloc[:, :-1]))\n",
    "\n",
    "finalDf = pd.concat([df_scaled, labels], axis=1)\n",
    "finalDf = finalDf.dropna()  # Remove rows with NaN values\n",
    "\n",
    "assert not finalDf.isna().any().any(), \"finalDf contains NaN values\"\n",
    "\n",
    "train_df, test_df = train_test_split(finalDf, test_size=0.2, random_state=2057231)\n",
    "\n",
    "# Create custom datasets and data loaders\n",
    "train_dataset = CustomDataset(pd.DataFrame(train_df))\n",
    "test_dataset = CustomDataset(pd.DataFrame(test_df))\n",
    "\n",
    "batch_size = 8  # Adjust as needed\n",
    "\n",
    "train_loader = DataLoader(train_dataset, batch_size=batch_size, shuffle=True)\n",
    "test_loader = DataLoader(test_dataset, batch_size=batch_size, shuffle=False)\n",
    "\n",
    "print(f\"Number of samples in train dataset: {len(train_dataset)}\")\n",
    "print(f\"Number of samples in test dataset: {len(test_dataset)}\")\n",
    "print(\"------------------------------------------------------\")\n",
    "print(f\"Number of batches in train loader: {len(train_loader)}\")\n",
    "print(f\"Number of batches in test loader: {len(test_loader)}\")\n",
    "print(\"------------------------------------------------------\")\n",
    "batch = next(iter(train_loader))\n",
    "print(f\"Shape of batch (X): {batch[0].shape}\")\n",
    "print(f\"Shape of batch (y): {batch[1].shape}\")"
   ]
  },
  {
   "cell_type": "markdown",
   "metadata": {},
   "source": [
    "# Model"
   ]
  },
  {
   "cell_type": "code",
   "execution_count": 19,
   "metadata": {},
   "outputs": [],
   "source": [
    "class CVAE(nn.Module):\n",
    "    def __init__(self, num_features, latent_dim, output_dim, condition_dim):\n",
    "        super(CVAE, self).__init__()\n",
    "\n",
    "        # Encoder\n",
    "        #self.fc1 = nn.Linear(num_features + condition_dim, 512)\n",
    "        self.fc1 = nn.Linear(num_features, 64, device=device)\n",
    "        self.fc2 = nn.Linear(64, 32, device=device)\n",
    "\n",
    "        self.fc_mu = nn.Linear(32, latent_dim, device=device)\n",
    "        self.fc_logvar = nn.Linear(32, latent_dim, device=device)\n",
    "\n",
    "        # Decoder\n",
    "        #.fc3 = nn.Linear(latent_dim + condition_dim, 256)\n",
    "        self.fc3 = nn.Linear(latent_dim, 32, device=device)\n",
    "        self.fc4 = nn.Linear(32, 64, device=device)\n",
    "\n",
    "        self.fc_output = nn.Linear(64, output_dim, device=device)\n",
    "\n",
    "    def encode(self, x):\n",
    "        x = F.relu(self.fc1(x))\n",
    "        x = F.relu(self.fc2(x))\n",
    "        return self.fc_mu(x), self.fc_logvar(x)\n",
    "\n",
    "    def decode(self, z):\n",
    "        z = F.relu(self.fc3(z))\n",
    "        z = F.relu(self.fc4(z))\n",
    "        return torch.sigmoid(self.fc_output(z))\n",
    "\n",
    "    # Take the mean (mu - μ) and log-variance (log(2)log(σ2)) produced by the Encoder \n",
    "    # and generates a latent code z using the reparameterization trick.\n",
    "    # This process ensures that the sampling operation is differentiable,\n",
    "    # enabling the use of backpropagation during training.\n",
    "    def reparameterize(self, mu, logvar):\n",
    "        # The standard deviation (std) is calculated as the \n",
    "        # exponential of half of the log-variance.\n",
    "        # This ensures that std is positive.\n",
    "        std = torch.exp(0.5 * logvar)\n",
    "\n",
    "        # Generates random noise with the same shape as the computed standard deviation.\n",
    "        # This noise is sampled from a normal distribution with mean 0 and standard deviation 1.\n",
    "        eps = torch.randn_like(std)\n",
    "        return mu + eps * std # μ + σ ⊙ ϵ\n",
    "\n",
    "    def forward(self, x, condition=None):\n",
    "        #x = torch.cat([x, condition], dim=1)    # Add the condition to Encoder - CVAE ---> TODO\n",
    "        \n",
    "        mu, logvar = self.encode(x)             # Encoding\n",
    "\n",
    "        z = self.reparameterize(mu, logvar)     # Re-parametrization | Latent variable\n",
    "\n",
    "        #z = torch.cat([z, condition], dim=1)    # Add the condition to Decoder - CVAE ---> TODO\n",
    "        reconstructed_x = self.decode(z)        # Decoding\n",
    "        return reconstructed_x, mu, logvar"
   ]
  },
  {
   "cell_type": "code",
   "execution_count": 20,
   "metadata": {},
   "outputs": [
    {
     "name": "stdout",
     "output_type": "stream",
     "text": [
      "CVAE(\n",
      "  (fc1): Linear(in_features=10, out_features=64, bias=True)\n",
      "  (fc2): Linear(in_features=64, out_features=32, bias=True)\n",
      "  (fc_mu): Linear(in_features=32, out_features=5, bias=True)\n",
      "  (fc_logvar): Linear(in_features=32, out_features=5, bias=True)\n",
      "  (fc3): Linear(in_features=5, out_features=32, bias=True)\n",
      "  (fc4): Linear(in_features=32, out_features=64, bias=True)\n",
      "  (fc_output): Linear(in_features=64, out_features=10, bias=True)\n",
      ")\n"
     ]
    }
   ],
   "source": [
    "num_features = 10  # Number of features in the CSV\n",
    "latent_dim = 5  # Latent space dimension\n",
    "output_dim = 10  # Output dimension (same as input for reconstruction)\n",
    "condition_dim = 1  # Dimension of the conditional variable (4 classes)\n",
    "\n",
    "cvae = CVAE(num_features, latent_dim, output_dim, condition_dim)\n",
    "cvae = cvae.to(device=device)\n",
    "print(cvae)"
   ]
  },
  {
   "cell_type": "code",
   "execution_count": 21,
   "metadata": {},
   "outputs": [
    {
     "name": "stderr",
     "output_type": "stream",
     "text": [
      "Epochs (Train):   0%|          | 0/50 [00:00<?, ?it/s]"
     ]
    },
    {
     "name": "stderr",
     "output_type": "stream",
     "text": [
      "Epochs (Train):   2%|▏         | 1/50 [00:03<02:33,  3.12s/it]"
     ]
    },
    {
     "name": "stdout",
     "output_type": "stream",
     "text": [
      "Epoch 0 | Mean Loss = 0.039 | Std Loss = 0.079\n"
     ]
    },
    {
     "name": "stderr",
     "output_type": "stream",
     "text": [
      "Epochs (Train):   4%|▍         | 2/50 [00:06<02:24,  3.02s/it]"
     ]
    },
    {
     "name": "stdout",
     "output_type": "stream",
     "text": [
      "Epoch 1 | Mean Loss = 0.014 | Std Loss = 0.008\n"
     ]
    },
    {
     "name": "stderr",
     "output_type": "stream",
     "text": [
      "Epochs (Train):   6%|▌         | 3/50 [00:08<02:19,  2.97s/it]"
     ]
    },
    {
     "name": "stdout",
     "output_type": "stream",
     "text": [
      "Epoch 2 | Mean Loss = 0.014 | Std Loss = 0.008\n"
     ]
    },
    {
     "name": "stderr",
     "output_type": "stream",
     "text": [
      "Epochs (Train):   8%|▊         | 4/50 [00:11<02:15,  2.94s/it]"
     ]
    },
    {
     "name": "stdout",
     "output_type": "stream",
     "text": [
      "Epoch 3 | Mean Loss = 0.014 | Std Loss = 0.008\n"
     ]
    },
    {
     "name": "stderr",
     "output_type": "stream",
     "text": [
      "Epochs (Train):  10%|█         | 5/50 [00:14<02:10,  2.90s/it]"
     ]
    },
    {
     "name": "stdout",
     "output_type": "stream",
     "text": [
      "Epoch 4 | Mean Loss = 0.014 | Std Loss = 0.008\n"
     ]
    },
    {
     "name": "stderr",
     "output_type": "stream",
     "text": [
      "Epochs (Train):  12%|█▏        | 6/50 [00:17<02:06,  2.88s/it]"
     ]
    },
    {
     "name": "stdout",
     "output_type": "stream",
     "text": [
      "Epoch 5 | Mean Loss = 0.014 | Std Loss = 0.008\n"
     ]
    },
    {
     "name": "stderr",
     "output_type": "stream",
     "text": [
      "Epochs (Train):  14%|█▍        | 7/50 [00:20<02:04,  2.89s/it]"
     ]
    },
    {
     "name": "stdout",
     "output_type": "stream",
     "text": [
      "Epoch 6 | Mean Loss = 0.014 | Std Loss = 0.008\n"
     ]
    },
    {
     "name": "stderr",
     "output_type": "stream",
     "text": [
      "Epochs (Train):  16%|█▌        | 8/50 [00:23<02:01,  2.89s/it]"
     ]
    },
    {
     "name": "stdout",
     "output_type": "stream",
     "text": [
      "Epoch 7 | Mean Loss = 0.014 | Std Loss = 0.008\n"
     ]
    },
    {
     "name": "stderr",
     "output_type": "stream",
     "text": [
      "Epochs (Train):  18%|█▊        | 9/50 [00:26<01:59,  2.91s/it]"
     ]
    },
    {
     "name": "stdout",
     "output_type": "stream",
     "text": [
      "Epoch 8 | Mean Loss = 0.014 | Std Loss = 0.008\n"
     ]
    },
    {
     "name": "stderr",
     "output_type": "stream",
     "text": [
      "Epochs (Train):  20%|██        | 10/50 [00:29<01:56,  2.91s/it]"
     ]
    },
    {
     "name": "stdout",
     "output_type": "stream",
     "text": [
      "Epoch 9 | Mean Loss = 0.014 | Std Loss = 0.008\n"
     ]
    },
    {
     "name": "stderr",
     "output_type": "stream",
     "text": [
      "Epochs (Train):  22%|██▏       | 11/50 [00:32<01:53,  2.91s/it]"
     ]
    },
    {
     "name": "stdout",
     "output_type": "stream",
     "text": [
      "Epoch 10 | Mean Loss = 0.014 | Std Loss = 0.008\n"
     ]
    },
    {
     "name": "stderr",
     "output_type": "stream",
     "text": [
      "Epochs (Train):  24%|██▍       | 12/50 [00:35<01:50,  2.90s/it]"
     ]
    },
    {
     "name": "stdout",
     "output_type": "stream",
     "text": [
      "Epoch 11 | Mean Loss = 0.014 | Std Loss = 0.008\n"
     ]
    },
    {
     "name": "stderr",
     "output_type": "stream",
     "text": [
      "Epochs (Train):  26%|██▌       | 13/50 [00:37<01:47,  2.91s/it]"
     ]
    },
    {
     "name": "stdout",
     "output_type": "stream",
     "text": [
      "Epoch 12 | Mean Loss = 0.014 | Std Loss = 0.008\n"
     ]
    },
    {
     "name": "stderr",
     "output_type": "stream",
     "text": [
      "Epochs (Train):  28%|██▊       | 14/50 [00:40<01:45,  2.94s/it]"
     ]
    },
    {
     "name": "stdout",
     "output_type": "stream",
     "text": [
      "Epoch 13 | Mean Loss = 0.014 | Std Loss = 0.009\n"
     ]
    },
    {
     "name": "stderr",
     "output_type": "stream",
     "text": [
      "Epochs (Train):  30%|███       | 15/50 [00:43<01:43,  2.97s/it]"
     ]
    },
    {
     "name": "stdout",
     "output_type": "stream",
     "text": [
      "Epoch 14 | Mean Loss = 0.014 | Std Loss = 0.008\n"
     ]
    },
    {
     "name": "stderr",
     "output_type": "stream",
     "text": [
      "Epochs (Train):  32%|███▏      | 16/50 [00:46<01:40,  2.97s/it]"
     ]
    },
    {
     "name": "stdout",
     "output_type": "stream",
     "text": [
      "Epoch 15 | Mean Loss = 0.014 | Std Loss = 0.009\n"
     ]
    },
    {
     "name": "stderr",
     "output_type": "stream",
     "text": [
      "Epochs (Train):  34%|███▍      | 17/50 [00:49<01:36,  2.93s/it]"
     ]
    },
    {
     "name": "stdout",
     "output_type": "stream",
     "text": [
      "Epoch 16 | Mean Loss = 0.014 | Std Loss = 0.008\n"
     ]
    },
    {
     "name": "stderr",
     "output_type": "stream",
     "text": [
      "Epochs (Train):  36%|███▌      | 18/50 [00:52<01:33,  2.93s/it]"
     ]
    },
    {
     "name": "stdout",
     "output_type": "stream",
     "text": [
      "Epoch 17 | Mean Loss = 0.014 | Std Loss = 0.008\n"
     ]
    },
    {
     "name": "stderr",
     "output_type": "stream",
     "text": [
      "Epochs (Train):  38%|███▊      | 19/50 [00:55<01:30,  2.91s/it]"
     ]
    },
    {
     "name": "stdout",
     "output_type": "stream",
     "text": [
      "Epoch 18 | Mean Loss = 0.014 | Std Loss = 0.009\n"
     ]
    },
    {
     "name": "stderr",
     "output_type": "stream",
     "text": [
      "Epochs (Train):  40%|████      | 20/50 [00:58<01:26,  2.89s/it]"
     ]
    },
    {
     "name": "stdout",
     "output_type": "stream",
     "text": [
      "Epoch 19 | Mean Loss = 0.014 | Std Loss = 0.008\n"
     ]
    },
    {
     "name": "stderr",
     "output_type": "stream",
     "text": [
      "Epochs (Train):  42%|████▏     | 21/50 [01:01<01:23,  2.88s/it]"
     ]
    },
    {
     "name": "stdout",
     "output_type": "stream",
     "text": [
      "Epoch 20 | Mean Loss = 0.014 | Std Loss = 0.008\n"
     ]
    },
    {
     "name": "stderr",
     "output_type": "stream",
     "text": [
      "Epochs (Train):  44%|████▍     | 22/50 [01:04<01:21,  2.89s/it]"
     ]
    },
    {
     "name": "stdout",
     "output_type": "stream",
     "text": [
      "Epoch 21 | Mean Loss = 0.014 | Std Loss = 0.008\n"
     ]
    },
    {
     "name": "stderr",
     "output_type": "stream",
     "text": [
      "Epochs (Train):  46%|████▌     | 23/50 [01:07<01:17,  2.87s/it]"
     ]
    },
    {
     "name": "stdout",
     "output_type": "stream",
     "text": [
      "Epoch 22 | Mean Loss = 0.014 | Std Loss = 0.008\n"
     ]
    },
    {
     "name": "stderr",
     "output_type": "stream",
     "text": [
      "Epochs (Train):  48%|████▊     | 24/50 [01:10<01:16,  2.93s/it]"
     ]
    },
    {
     "name": "stdout",
     "output_type": "stream",
     "text": [
      "Epoch 23 | Mean Loss = 0.014 | Std Loss = 0.008\n"
     ]
    },
    {
     "name": "stderr",
     "output_type": "stream",
     "text": [
      "Epochs (Train):  50%|█████     | 25/50 [01:13<01:13,  2.93s/it]"
     ]
    },
    {
     "name": "stdout",
     "output_type": "stream",
     "text": [
      "Epoch 24 | Mean Loss = 0.014 | Std Loss = 0.008\n"
     ]
    },
    {
     "name": "stderr",
     "output_type": "stream",
     "text": [
      "Epochs (Train):  52%|█████▏    | 26/50 [01:16<01:10,  2.95s/it]"
     ]
    },
    {
     "name": "stdout",
     "output_type": "stream",
     "text": [
      "Epoch 25 | Mean Loss = 0.014 | Std Loss = 0.008\n"
     ]
    },
    {
     "name": "stderr",
     "output_type": "stream",
     "text": [
      "Epochs (Train):  54%|█████▍    | 27/50 [01:18<01:07,  2.94s/it]"
     ]
    },
    {
     "name": "stdout",
     "output_type": "stream",
     "text": [
      "Epoch 26 | Mean Loss = 0.014 | Std Loss = 0.008\n"
     ]
    },
    {
     "name": "stderr",
     "output_type": "stream",
     "text": [
      "Epochs (Train):  56%|█████▌    | 28/50 [01:21<01:04,  2.94s/it]"
     ]
    },
    {
     "name": "stdout",
     "output_type": "stream",
     "text": [
      "Epoch 27 | Mean Loss = 0.014 | Std Loss = 0.008\n"
     ]
    },
    {
     "name": "stderr",
     "output_type": "stream",
     "text": [
      "Epochs (Train):  58%|█████▊    | 29/50 [01:24<01:01,  2.93s/it]"
     ]
    },
    {
     "name": "stdout",
     "output_type": "stream",
     "text": [
      "Epoch 28 | Mean Loss = 0.014 | Std Loss = 0.008\n"
     ]
    },
    {
     "name": "stderr",
     "output_type": "stream",
     "text": [
      "Epochs (Train):  60%|██████    | 30/50 [01:27<00:58,  2.94s/it]"
     ]
    },
    {
     "name": "stdout",
     "output_type": "stream",
     "text": [
      "Epoch 29 | Mean Loss = 0.014 | Std Loss = 0.008\n"
     ]
    },
    {
     "name": "stderr",
     "output_type": "stream",
     "text": [
      "Epochs (Train):  62%|██████▏   | 31/50 [01:30<00:56,  2.96s/it]"
     ]
    },
    {
     "name": "stdout",
     "output_type": "stream",
     "text": [
      "Epoch 30 | Mean Loss = 0.014 | Std Loss = 0.008\n"
     ]
    },
    {
     "name": "stderr",
     "output_type": "stream",
     "text": [
      "Epochs (Train):  64%|██████▍   | 32/50 [01:33<00:53,  2.95s/it]"
     ]
    },
    {
     "name": "stdout",
     "output_type": "stream",
     "text": [
      "Epoch 31 | Mean Loss = 0.014 | Std Loss = 0.008\n"
     ]
    },
    {
     "name": "stderr",
     "output_type": "stream",
     "text": [
      "Epochs (Train):  66%|██████▌   | 33/50 [01:36<00:50,  2.95s/it]"
     ]
    },
    {
     "name": "stdout",
     "output_type": "stream",
     "text": [
      "Epoch 32 | Mean Loss = 0.014 | Std Loss = 0.008\n"
     ]
    },
    {
     "name": "stderr",
     "output_type": "stream",
     "text": [
      "Epochs (Train):  68%|██████▊   | 34/50 [01:39<00:47,  2.95s/it]"
     ]
    },
    {
     "name": "stdout",
     "output_type": "stream",
     "text": [
      "Epoch 33 | Mean Loss = 0.014 | Std Loss = 0.008\n"
     ]
    },
    {
     "name": "stderr",
     "output_type": "stream",
     "text": [
      "Epochs (Train):  70%|███████   | 35/50 [01:42<00:43,  2.93s/it]"
     ]
    },
    {
     "name": "stdout",
     "output_type": "stream",
     "text": [
      "Epoch 34 | Mean Loss = 0.014 | Std Loss = 0.008\n"
     ]
    },
    {
     "name": "stderr",
     "output_type": "stream",
     "text": [
      "Epochs (Train):  72%|███████▏  | 36/50 [01:45<00:41,  2.96s/it]"
     ]
    },
    {
     "name": "stdout",
     "output_type": "stream",
     "text": [
      "Epoch 35 | Mean Loss = 0.014 | Std Loss = 0.009\n"
     ]
    },
    {
     "name": "stderr",
     "output_type": "stream",
     "text": [
      "Epochs (Train):  74%|███████▍  | 37/50 [01:48<00:38,  2.96s/it]"
     ]
    },
    {
     "name": "stdout",
     "output_type": "stream",
     "text": [
      "Epoch 36 | Mean Loss = 0.014 | Std Loss = 0.008\n"
     ]
    },
    {
     "name": "stderr",
     "output_type": "stream",
     "text": [
      "Epochs (Train):  76%|███████▌  | 38/50 [01:51<00:35,  2.99s/it]"
     ]
    },
    {
     "name": "stdout",
     "output_type": "stream",
     "text": [
      "Epoch 37 | Mean Loss = 0.014 | Std Loss = 0.008\n"
     ]
    },
    {
     "name": "stderr",
     "output_type": "stream",
     "text": [
      "Epochs (Train):  78%|███████▊  | 39/50 [01:54<00:32,  2.96s/it]"
     ]
    },
    {
     "name": "stdout",
     "output_type": "stream",
     "text": [
      "Epoch 38 | Mean Loss = 0.014 | Std Loss = 0.008\n"
     ]
    },
    {
     "name": "stderr",
     "output_type": "stream",
     "text": [
      "Epochs (Train):  80%|████████  | 40/50 [01:57<00:29,  2.92s/it]"
     ]
    },
    {
     "name": "stdout",
     "output_type": "stream",
     "text": [
      "Epoch 39 | Mean Loss = 0.014 | Std Loss = 0.008\n"
     ]
    },
    {
     "name": "stderr",
     "output_type": "stream",
     "text": [
      "Epochs (Train):  82%|████████▏ | 41/50 [01:59<00:24,  2.73s/it]"
     ]
    },
    {
     "name": "stdout",
     "output_type": "stream",
     "text": [
      "Epoch 40 | Mean Loss = 0.014 | Std Loss = 0.008\n"
     ]
    },
    {
     "name": "stderr",
     "output_type": "stream",
     "text": [
      "Epochs (Train):  84%|████████▍ | 42/50 [02:01<00:20,  2.59s/it]"
     ]
    },
    {
     "name": "stdout",
     "output_type": "stream",
     "text": [
      "Epoch 41 | Mean Loss = 0.014 | Std Loss = 0.008\n"
     ]
    },
    {
     "name": "stderr",
     "output_type": "stream",
     "text": [
      "Epochs (Train):  86%|████████▌ | 43/50 [02:03<00:17,  2.44s/it]"
     ]
    },
    {
     "name": "stdout",
     "output_type": "stream",
     "text": [
      "Epoch 42 | Mean Loss = 0.014 | Std Loss = 0.008\n"
     ]
    },
    {
     "name": "stderr",
     "output_type": "stream",
     "text": [
      "Epochs (Train):  88%|████████▊ | 44/50 [02:05<00:14,  2.34s/it]"
     ]
    },
    {
     "name": "stdout",
     "output_type": "stream",
     "text": [
      "Epoch 43 | Mean Loss = 0.014 | Std Loss = 0.009\n"
     ]
    },
    {
     "name": "stderr",
     "output_type": "stream",
     "text": [
      "Epochs (Train):  90%|█████████ | 45/50 [02:08<00:11,  2.25s/it]"
     ]
    },
    {
     "name": "stdout",
     "output_type": "stream",
     "text": [
      "Epoch 44 | Mean Loss = 0.014 | Std Loss = 0.008\n"
     ]
    },
    {
     "name": "stderr",
     "output_type": "stream",
     "text": [
      "Epochs (Train):  92%|█████████▏| 46/50 [02:10<00:08,  2.21s/it]"
     ]
    },
    {
     "name": "stdout",
     "output_type": "stream",
     "text": [
      "Epoch 45 | Mean Loss = 0.014 | Std Loss = 0.008\n"
     ]
    },
    {
     "name": "stderr",
     "output_type": "stream",
     "text": [
      "Epochs (Train):  94%|█████████▍| 47/50 [02:12<00:06,  2.20s/it]"
     ]
    },
    {
     "name": "stdout",
     "output_type": "stream",
     "text": [
      "Epoch 46 | Mean Loss = 0.014 | Std Loss = 0.008\n"
     ]
    },
    {
     "name": "stderr",
     "output_type": "stream",
     "text": [
      "Epochs (Train):  96%|█████████▌| 48/50 [02:14<00:04,  2.17s/it]"
     ]
    },
    {
     "name": "stdout",
     "output_type": "stream",
     "text": [
      "Epoch 47 | Mean Loss = 0.014 | Std Loss = 0.008\n"
     ]
    },
    {
     "name": "stderr",
     "output_type": "stream",
     "text": [
      "Epochs (Train):  98%|█████████▊| 49/50 [02:16<00:02,  2.13s/it]"
     ]
    },
    {
     "name": "stdout",
     "output_type": "stream",
     "text": [
      "Epoch 48 | Mean Loss = 0.014 | Std Loss = 0.009\n"
     ]
    },
    {
     "name": "stderr",
     "output_type": "stream",
     "text": [
      "Epochs (Train): 100%|██████████| 50/50 [02:18<00:00,  2.77s/it]"
     ]
    },
    {
     "name": "stdout",
     "output_type": "stream",
     "text": [
      "Epoch 49 | Mean Loss = 0.014 | Std Loss = 0.008\n"
     ]
    },
    {
     "name": "stderr",
     "output_type": "stream",
     "text": [
      "\n"
     ]
    }
   ],
   "source": [
    "# Example usage\n",
    "num_epochs = 50\n",
    "\n",
    "# Define your loss function and optimizer\n",
    "criterion = nn.MSELoss()  # You can choose a different loss function based on your task\n",
    "\n",
    "# Define your optimizer\n",
    "optimizer = optim.Adam(cvae.parameters(), lr=1e-3)  # You can adjust the learning rate based on your needs\n",
    "\n",
    "# Training loop\n",
    "for epoch in tqdm(range(num_epochs), desc=F\"Epochs (Train)\", leave=True):\n",
    "\n",
    "    # Train CVAE\n",
    "    cvae.train()\n",
    "\n",
    "    losses = []  # Store the loss of each batch in this list\n",
    "\n",
    "    for i, (x, labels) in enumerate(train_loader):\n",
    "\n",
    "        # We need to move to the GPU\n",
    "        x = x.to(device=device)\n",
    "        labels = labels.to(device=device)\n",
    "\n",
    "        # Forward pass\n",
    "        reconstructed_data, mu, logvar = cvae(x, None)\n",
    "\n",
    "        # Assuming reconstructed_x is the output of your CVAE, input_x is the input data\n",
    "        reconstruction_loss = criterion(reconstructed_data, x)\n",
    "\n",
    "        # KL Divergence\n",
    "        kl_divergence = -0.5 * torch.sum(1 + logvar - mu.pow(2) - logvar.exp())\n",
    "\n",
    "        # Total loss\n",
    "        loss = reconstruction_loss + kl_divergence\n",
    "\n",
    "        # Backward pass and optimization\n",
    "        optimizer.zero_grad()\n",
    "        loss.backward()\n",
    "        optimizer.step()\n",
    "\n",
    "        losses.append(loss.item())\n",
    "\n",
    "    # Compute the mean and standard deviation of the losses\n",
    "    mean_loss = np.mean(losses)\n",
    "    std_loss = np.std(losses)\n",
    "\n",
    "    print(f\"Epoch {epoch} | Mean Loss = {mean_loss:.3f} | Std Loss = {std_loss:.3f}\")"
   ]
  },
  {
   "cell_type": "code",
   "execution_count": 95,
   "metadata": {},
   "outputs": [
    {
     "name": "stdout",
     "output_type": "stream",
     "text": [
      "Generated samples:\n",
      "\ttensor([[0.5362, 0.4769, 0.5348, 0.0137, 0.1165, 0.4774, 0.0756, 0.0205, 0.0161,\n",
      "         0.1078]], device='cuda:0') | Shape: torch.Size([1, 10])\n",
      "True samples:\n",
      "\ttensor([[0.5568, 0.4824, 0.5568, 0.0070, 0.0647, 0.4824, 0.0438, 0.0024, 0.0014,\n",
      "         0.0578]], device='cuda:0') | Shape: torch.Size([1, 10])\n"
     ]
    },
    {
     "data": {
      "image/png": "[encoded data removed]",
      "text/plain": [
       "<Figure size 1200x800 with 1 Axes>"
      ]
     },
     "metadata": {},
     "output_type": "display_data"
    }
   ],
   "source": [
    "# Assuming cvae is your trained CVAE model\n",
    "# Assuming latent_dim is the dimensionality of the latent space\n",
    "num_samples = 1\n",
    "cvae.eval()\n",
    "randomNoise = False\n",
    "\n",
    "outputList = []\n",
    "outputListTrue = []\n",
    "\n",
    "if(randomNoise):\n",
    "    with torch.no_grad():\n",
    "        # Generate random latent vectors from a normal distribution\n",
    "        y_true = torch.rand(1, 10, device=device)\n",
    "\n",
    "        # Repeat the condition tensor for each generated sample\n",
    "        # Pass the latent vectors through the decoder\n",
    "        generated_samples, _, _ = cvae(y_true)\n",
    "\n",
    "        y = generated_samples.detach().cpu().numpy()[0, :]\n",
    "        y_true = y_true.detach().cpu().numpy()[0, :]\n",
    "else: # Test loader\n",
    "    with torch.no_grad():\n",
    "        test_iter = iter(test_loader)\n",
    "        random_batch_idx = random.randint(0, len(test_loader) - 1)\n",
    "        for batch_idx, (x, _) in enumerate(test_loader):\n",
    "            if batch_idx == random_batch_idx:\n",
    "                x = x.to(device=device)\n",
    "                x = x[0, :].unsqueeze(0)  # Get just one sample and pass it to the network\n",
    "                x_hat, _, _ = cvae(x)\n",
    "                outputList.append(x_hat)\n",
    "                outputListTrue.append(x)\n",
    "                break\n",
    "\n",
    "        # Example usage:\n",
    "        generated_samples_torch = torch.vstack(outputList)\n",
    "        true_samples_torch = torch.vstack(outputListTrue)\n",
    "        print(F\"Generated samples:\\n\\t{generated_samples_torch} | Shape: {generated_samples_torch.shape}\")\n",
    "        print(F\"True samples:\\n\\t{true_samples_torch} | Shape: {true_samples_torch.shape}\")\n",
    "\n",
    "        # We take the 6th sample from the generated samples and print all the channels\n",
    "        y = generated_samples_torch.detach().cpu().numpy()[0, :]\n",
    "        y_true = true_samples_torch.detach().cpu().numpy()[0, :]\n",
    "\n",
    "plt.figure(figsize=(12, 8))\n",
    "plt.plot(y_true, label='True')\n",
    "plt.plot(y, label='Generated')\n",
    "plt.legend()\n",
    "plt.show()"
   ]
  }
 ],
 "metadata": {
  "kernelspec": {
   "display_name": "base",
   "language": "python",
   "name": "python3"
  },
  "language_info": {
   "codemirror_mode": {
    "name": "ipython",
    "version": 3
   },
   "file_extension": ".py",
   "mimetype": "text/x-python",
   "name": "python",
   "nbconvert_exporter": "python",
   "pygments_lexer": "ipython3",
   "version": "3.9.13"
  }
 },
 "nbformat": 4,
 "nbformat_minor": 2
}
